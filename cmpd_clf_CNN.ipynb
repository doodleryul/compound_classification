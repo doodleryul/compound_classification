{
 "cells": [
  {
   "cell_type": "markdown",
   "metadata": {
    "collapsed": false,
    "id": "8oSW6Pynzzct",
    "pycharm": {
     "name": "#%% md\n"
    }
   },
   "source": [
    "# Compound Classification Challenge\n",
    "- input: smiles\n",
    "- model: CNN"
   ]
  },
  {
   "cell_type": "code",
   "source": [
    "#!pip install wandb"
   ],
   "metadata": {
    "id": "aFtHaV62SoM3",
    "pycharm": {
     "name": "#%%\n"
    }
   },
   "execution_count": null,
   "outputs": []
  },
  {
   "cell_type": "code",
   "execution_count": null,
   "metadata": {
    "colab": {
     "base_uri": "https://localhost:8080/"
    },
    "collapsed": true,
    "id": "qhgrgMbazzcv",
    "executionInfo": {
     "status": "ok",
     "timestamp": 1644499416017,
     "user_tz": -540,
     "elapsed": 823,
     "user": {
      "displayName": "이유림",
      "photoUrl": "https://lh3.googleusercontent.com/a-/AOh14Ghqpv6CiJonH-12L4lTSRmt61Bd-HCwA_0-MSxtWQU=s64",
      "userId": "10016563522635960681"
     }
    },
    "outputId": "9cc41ebb-e77c-4053-b974-858ad980ffd9",
    "pycharm": {
     "name": "#%%\n"
    }
   },
   "outputs": [
    {
     "output_type": "stream",
     "name": "stderr",
     "text": [
      "\u001B[34m\u001B[1mwandb\u001B[0m: Currently logged in as: \u001B[33mrimiiii\u001B[0m (use `wandb login --relogin` to force relogin)\n"
     ]
    },
    {
     "output_type": "stream",
     "name": "stdout",
     "text": [
      "cuda:0 is available\n"
     ]
    },
    {
     "output_type": "execute_result",
     "data": {
      "text/plain": [
       "True"
      ]
     },
     "metadata": {},
     "execution_count": 9
    }
   ],
   "source": [
    "import pandas as pd\n",
    "import numpy as np\n",
    "from tqdm.notebook import tqdm\n",
    "import wandb\n",
    "\n",
    "from torch.utils.data import Dataset, DataLoader\n",
    "import torch\n",
    "import torch.nn as nn\n",
    "import torch.nn.functional as F\n",
    "import torch.optim as optim\n",
    "from tqdm.notebook import tqdm\n",
    "\n",
    "import sklearn.metrics as metrics\n",
    "from sklearn.metrics import roc_auc_score\n",
    "\n",
    "device = torch.device('cuda:0' if torch.cuda.is_available() else 'cpu')\n",
    "print(f'{device} is available')\n",
    "\n",
    "wandb.login()"
   ]
  },
  {
   "cell_type": "code",
   "execution_count": null,
   "metadata": {
    "colab": {
     "base_uri": "https://localhost:8080/"
    },
    "executionInfo": {
     "elapsed": 25748,
     "status": "ok",
     "timestamp": 1644499261106,
     "user": {
      "displayName": "이유림",
      "photoUrl": "https://lh3.googleusercontent.com/a-/AOh14Ghqpv6CiJonH-12L4lTSRmt61Bd-HCwA_0-MSxtWQU=s64",
      "userId": "10016563522635960681"
     },
     "user_tz": -540
    },
    "id": "6BXp0FFD0-ZE",
    "outputId": "7588e245-3a20-497b-f480-d502f30d4471",
    "pycharm": {
     "name": "#%%\n"
    }
   },
   "outputs": [
    {
     "output_type": "stream",
     "name": "stdout",
     "text": [
      "Mounted at /gdrive\n"
     ]
    }
   ],
   "source": [
    "# colab 연결\n",
    "from google.colab import drive\n",
    "drive.mount('/gdrive')\n",
    "\n",
    "data_dir = '/gdrive/My Drive/data/compound/'"
   ]
  },
  {
   "cell_type": "markdown",
   "metadata": {
    "collapsed": false,
    "id": "90wTDe33zzcw",
    "pycharm": {
     "name": "#%% md\n"
    }
   },
   "source": [
    "# Data 로드\n",
    "\n",
    "Let's load the compound data file."
   ]
  },
  {
   "cell_type": "code",
   "execution_count": null,
   "metadata": {
    "colab": {
     "base_uri": "https://localhost:8080/",
     "height": 357
    },
    "executionInfo": {
     "elapsed": 661,
     "status": "ok",
     "timestamp": 1644499264191,
     "user": {
      "displayName": "이유림",
      "photoUrl": "https://lh3.googleusercontent.com/a-/AOh14Ghqpv6CiJonH-12L4lTSRmt61Bd-HCwA_0-MSxtWQU=s64",
      "userId": "10016563522635960681"
     },
     "user_tz": -540
    },
    "id": "NJL-tofqzzcx",
    "outputId": "6e097a96-51c8-4909-d8d1-8057f16e8697",
    "pycharm": {
     "name": "#%%\n"
    }
   },
   "outputs": [
    {
     "output_type": "execute_result",
     "data": {
      "text/html": [
       "\n",
       "  <div id=\"df-7099c78f-bb78-444a-ae96-dd63109d0b8d\">\n",
       "    <div class=\"colab-df-container\">\n",
       "      <div>\n",
       "<style scoped>\n",
       "    .dataframe tbody tr th:only-of-type {\n",
       "        vertical-align: middle;\n",
       "    }\n",
       "\n",
       "    .dataframe tbody tr th {\n",
       "        vertical-align: top;\n",
       "    }\n",
       "\n",
       "    .dataframe thead th {\n",
       "        text-align: right;\n",
       "    }\n",
       "</style>\n",
       "<table border=\"1\" class=\"dataframe\">\n",
       "  <thead>\n",
       "    <tr style=\"text-align: right;\">\n",
       "      <th></th>\n",
       "      <th>inchikey</th>\n",
       "      <th>smiles</th>\n",
       "      <th>group</th>\n",
       "      <th>activity</th>\n",
       "    </tr>\n",
       "  </thead>\n",
       "  <tbody>\n",
       "    <tr>\n",
       "      <th>0</th>\n",
       "      <td>FNHKPVJBJVTLMP-UHFFFAOYSA-N</td>\n",
       "      <td>CNC(=O)c1cc(Oc2ccc(NC(=O)Nc3ccc(Cl)c(C(F)(F)F)...</td>\n",
       "      <td>train</td>\n",
       "      <td>active</td>\n",
       "    </tr>\n",
       "    <tr>\n",
       "      <th>1</th>\n",
       "      <td>CUDVHEFYRIWYQD-UHFFFAOYSA-N</td>\n",
       "      <td>CNC(=O)c1cccc2cc(Oc3ccnc4cc(OCC5(N)CC5)c(OC)cc...</td>\n",
       "      <td>train</td>\n",
       "      <td>active</td>\n",
       "    </tr>\n",
       "    <tr>\n",
       "      <th>2</th>\n",
       "      <td>TTZSNFLLYPYKIL-UHFFFAOYSA-N</td>\n",
       "      <td>Cc1cc2cc(Oc3ccnc(Nc4cccc(CS(=O)(=O)NCCN(C)C)c4...</td>\n",
       "      <td>test</td>\n",
       "      <td>active</td>\n",
       "    </tr>\n",
       "    <tr>\n",
       "      <th>3</th>\n",
       "      <td>UOVCGJXDGOGOCZ-UHFFFAOYSA-N</td>\n",
       "      <td>COc1cc2c(cc1F)C(c1ccccc1Cl)=Nc1c(n[nH]c1C)N2</td>\n",
       "      <td>train</td>\n",
       "      <td>active</td>\n",
       "    </tr>\n",
       "    <tr>\n",
       "      <th>4</th>\n",
       "      <td>CUIHSIWYWATEQL-UHFFFAOYSA-N</td>\n",
       "      <td>Cc1ccc(Nc2nccc(N(C)c3ccc4c(C)n(C)nc4c3)n2)cc1S...</td>\n",
       "      <td>test</td>\n",
       "      <td>active</td>\n",
       "    </tr>\n",
       "  </tbody>\n",
       "</table>\n",
       "</div>\n",
       "      <button class=\"colab-df-convert\" onclick=\"convertToInteractive('df-7099c78f-bb78-444a-ae96-dd63109d0b8d')\"\n",
       "              title=\"Convert this dataframe to an interactive table.\"\n",
       "              style=\"display:none;\">\n",
       "        \n",
       "  <svg xmlns=\"http://www.w3.org/2000/svg\" height=\"24px\"viewBox=\"0 0 24 24\"\n",
       "       width=\"24px\">\n",
       "    <path d=\"M0 0h24v24H0V0z\" fill=\"none\"/>\n",
       "    <path d=\"M18.56 5.44l.94 2.06.94-2.06 2.06-.94-2.06-.94-.94-2.06-.94 2.06-2.06.94zm-11 1L8.5 8.5l.94-2.06 2.06-.94-2.06-.94L8.5 2.5l-.94 2.06-2.06.94zm10 10l.94 2.06.94-2.06 2.06-.94-2.06-.94-.94-2.06-.94 2.06-2.06.94z\"/><path d=\"M17.41 7.96l-1.37-1.37c-.4-.4-.92-.59-1.43-.59-.52 0-1.04.2-1.43.59L10.3 9.45l-7.72 7.72c-.78.78-.78 2.05 0 2.83L4 21.41c.39.39.9.59 1.41.59.51 0 1.02-.2 1.41-.59l7.78-7.78 2.81-2.81c.8-.78.8-2.07 0-2.86zM5.41 20L4 18.59l7.72-7.72 1.47 1.35L5.41 20z\"/>\n",
       "  </svg>\n",
       "      </button>\n",
       "      \n",
       "  <style>\n",
       "    .colab-df-container {\n",
       "      display:flex;\n",
       "      flex-wrap:wrap;\n",
       "      gap: 12px;\n",
       "    }\n",
       "\n",
       "    .colab-df-convert {\n",
       "      background-color: #E8F0FE;\n",
       "      border: none;\n",
       "      border-radius: 50%;\n",
       "      cursor: pointer;\n",
       "      display: none;\n",
       "      fill: #1967D2;\n",
       "      height: 32px;\n",
       "      padding: 0 0 0 0;\n",
       "      width: 32px;\n",
       "    }\n",
       "\n",
       "    .colab-df-convert:hover {\n",
       "      background-color: #E2EBFA;\n",
       "      box-shadow: 0px 1px 2px rgba(60, 64, 67, 0.3), 0px 1px 3px 1px rgba(60, 64, 67, 0.15);\n",
       "      fill: #174EA6;\n",
       "    }\n",
       "\n",
       "    [theme=dark] .colab-df-convert {\n",
       "      background-color: #3B4455;\n",
       "      fill: #D2E3FC;\n",
       "    }\n",
       "\n",
       "    [theme=dark] .colab-df-convert:hover {\n",
       "      background-color: #434B5C;\n",
       "      box-shadow: 0px 1px 3px 1px rgba(0, 0, 0, 0.15);\n",
       "      filter: drop-shadow(0px 1px 2px rgba(0, 0, 0, 0.3));\n",
       "      fill: #FFFFFF;\n",
       "    }\n",
       "  </style>\n",
       "\n",
       "      <script>\n",
       "        const buttonEl =\n",
       "          document.querySelector('#df-7099c78f-bb78-444a-ae96-dd63109d0b8d button.colab-df-convert');\n",
       "        buttonEl.style.display =\n",
       "          google.colab.kernel.accessAllowed ? 'block' : 'none';\n",
       "\n",
       "        async function convertToInteractive(key) {\n",
       "          const element = document.querySelector('#df-7099c78f-bb78-444a-ae96-dd63109d0b8d');\n",
       "          const dataTable =\n",
       "            await google.colab.kernel.invokeFunction('convertToInteractive',\n",
       "                                                     [key], {});\n",
       "          if (!dataTable) return;\n",
       "\n",
       "          const docLinkHtml = 'Like what you see? Visit the ' +\n",
       "            '<a target=\"_blank\" href=https://colab.research.google.com/notebooks/data_table.ipynb>data table notebook</a>'\n",
       "            + ' to learn more about interactive tables.';\n",
       "          element.innerHTML = '';\n",
       "          dataTable['output_type'] = 'display_data';\n",
       "          await google.colab.output.renderOutput(dataTable, element);\n",
       "          const docLink = document.createElement('div');\n",
       "          docLink.innerHTML = docLinkHtml;\n",
       "          element.appendChild(docLink);\n",
       "        }\n",
       "      </script>\n",
       "    </div>\n",
       "  </div>\n",
       "  "
      ],
      "text/plain": [
       "                      inchikey  ... activity\n",
       "0  FNHKPVJBJVTLMP-UHFFFAOYSA-N  ...   active\n",
       "1  CUDVHEFYRIWYQD-UHFFFAOYSA-N  ...   active\n",
       "2  TTZSNFLLYPYKIL-UHFFFAOYSA-N  ...   active\n",
       "3  UOVCGJXDGOGOCZ-UHFFFAOYSA-N  ...   active\n",
       "4  CUIHSIWYWATEQL-UHFFFAOYSA-N  ...   active\n",
       "\n",
       "[5 rows x 4 columns]"
      ]
     },
     "metadata": {},
     "execution_count": 6
    }
   ],
   "source": [
    "cmpd_df = pd.read_csv(data_dir+'cmpd.csv')\n",
    "cmpd_df.head()"
   ]
  },
  {
   "cell_type": "markdown",
   "metadata": {
    "id": "JeRBKD1Ozzcz",
    "pycharm": {
     "name": "#%% md\n"
    }
   },
   "source": [
    "# dataset, dataloader 준비\n",
    "- input: character level sequence data (batch_size, 1, smiles_max_length, vocab_size)\n",
    "- label: actvie, inaactive"
   ]
  },
  {
   "cell_type": "code",
   "execution_count": null,
   "metadata": {
    "colab": {
     "base_uri": "https://localhost:8080/"
    },
    "executionInfo": {
     "elapsed": 744,
     "status": "ok",
     "timestamp": 1644499563141,
     "user": {
      "displayName": "이유림",
      "photoUrl": "https://lh3.googleusercontent.com/a-/AOh14Ghqpv6CiJonH-12L4lTSRmt61Bd-HCwA_0-MSxtWQU=s64",
      "userId": "10016563522635960681"
     },
     "user_tz": -540
    },
    "id": "ebA-sXwfzzcz",
    "outputId": "10ed03a7-a446-4995-e6c7-6be3906a1c0d",
    "pycharm": {
     "name": "#%%\n"
    }
   },
   "outputs": [
    {
     "output_type": "stream",
     "name": "stdout",
     "text": [
      "Vocabulary size: 38\n"
     ]
    }
   ],
   "source": [
    "# character level의 vocabulary 만들기\n",
    "vocab = set()\n",
    "for mol in cmpd_df.smiles:\n",
    "    vocab.update(list(mol))\n",
    "vocab = sorted(vocab)\n",
    "char_to_idx = {char: i for i, char in enumerate(vocab)}\n",
    "print(f'Vocabulary size: {len(vocab)}')"
   ]
  },
  {
   "cell_type": "markdown",
   "metadata": {
    "id": "Cbb6ry3c1_ne",
    "pycharm": {
     "name": "#%% md\n"
    }
   },
   "source": [
    "## 데이터셋 만들기"
   ]
  },
  {
   "cell_type": "code",
   "execution_count": null,
   "metadata": {
    "id": "kwzsxrADzzc0",
    "pycharm": {
     "name": "#%%\n"
    }
   },
   "outputs": [],
   "source": [
    "class cnnDataset(Dataset):\n",
    "    def __init__(self, df, vocab, partition, max_len=400): \n",
    "        self.smiles = df['smiles']\n",
    "        self.activity = df['activity']\n",
    "        self.vocab = vocab\n",
    "        self.partition = partition\n",
    "\n",
    "        char_to_idx = {char: i for i, char in enumerate(vocab)}\n",
    "\n",
    "        # X 만들기\n",
    "        self.X = np.zeros((len(self.smiles), max_len))\n",
    "        for i, smiles in enumerate(self.smiles):\n",
    "            for j, char in enumerate(smiles[:max_len]):\n",
    "                self.X[i][j] = char_to_idx[char] + 1 # index 0: 0으로 padding된 값들\n",
    "\n",
    "        if self.partition == 'train':\n",
    "          # label 만들기\n",
    "          self.label = self.activity.eq('active').astype(float).to_numpy()\n",
    "    \n",
    "    def __len__(self):\n",
    "        return len(self.smiles)\n",
    "\n",
    "    def __getitem__(self, index):\n",
    "        if self.partition == 'train':\n",
    "          return self.X[index], self.label[index]\n",
    "        elif self.partition == 'test':\n",
    "          return self.X[index]"
   ]
  },
  {
   "cell_type": "markdown",
   "metadata": {
    "id": "3fCkrAo-2BY9",
    "pycharm": {
     "name": "#%% md\n"
    }
   },
   "source": [
    "# 모델 만들기\n",
    "- 모델구조\n",
    "  - embedding layer\n",
    "  - 2 convolution layers(+average pooling, batchnorm)\n",
    "  - global max pooling\n",
    "- [참고 논문](https://bmcbioinformatics.biomedcentral.com/articles/10.1186/s12859-018-2523-5)"
   ]
  },
  {
   "cell_type": "code",
   "execution_count": null,
   "metadata": {
    "id": "-ef1Oj2Lzzc0",
    "pycharm": {
     "name": "#%%\n"
    }
   },
   "outputs": [],
   "source": [
    "class CNN(nn.Module):\n",
    "    def __init__(self, vocab_size=39):\n",
    "        super(CNN, self).__init__()\n",
    "        self.conv1 = nn.Conv2d(in_channels=1, out_channels=64, kernel_size=(9, vocab_size))\n",
    "        self.conv2 = nn.Conv2d(in_channels=1, out_channels=64, kernel_size=(9, 64))\n",
    "        self.avg_pool1 = nn.AvgPool2d(kernel_size=(2, 1))\n",
    "        self.avg_pool2 = nn.AvgPool2d(kernel_size=(2, 1))\n",
    "        self.global_max_pool = nn.MaxPool2d(kernel_size=(1, 64))\n",
    "        self.bn1 = nn.BatchNorm2d(64)\n",
    "        self.bn2 = nn.BatchNorm2d(64)\n",
    "        self.leakyrelu = nn.LeakyReLU()\n",
    "        \n",
    "    def forward(self, x):\n",
    "        x = x.view(-1, 1, 400, 39)\n",
    "        x = self.leakyrelu(self.conv1(x))\n",
    "        x = self.leakyrelu(self.bn1(x))\n",
    "        x = x.view(-1, 1, 392, 64) # batch_size, 1, characters, filters\n",
    "        x = self.avg_pool1(x) # characters의 avg_pooling\n",
    "        x = self.leakyrelu(self.conv2(x))\n",
    "        x = self.leakyrelu(self.bn2(x))\n",
    "        x = x.view(-1, 1, 188, 64) # batch_size, 1, characters, filters\n",
    "        x = self.avg_pool2(x) # characters의 avg_pooling\n",
    "        x = self.global_max_pool(x) #filters의 max_pooling\n",
    "        x = x.flatten(start_dim=1)\n",
    "        return x   \n",
    "    \n",
    "class Net(nn.Module):\n",
    "    def __init__(self):\n",
    "        super(Net, self).__init__()\n",
    "        wandb.init()\n",
    "        self.embedding = self.create_emb_layer()\n",
    "        self.conv_forward = CNN()\n",
    "        self.fc1 = nn.Linear(94, 64)\n",
    "        self.fc2 = nn.Linear(64, 1)\n",
    "        self.dropout = nn.Dropout2d(0.3)\n",
    "        self.leakyrelu = nn.LeakyReLU()\n",
    "        \n",
    "    def create_emb_layer(self, vocab_size=39):\n",
    "        emb_layer = nn.Embedding(vocab_size, vocab_size)\n",
    "        weight_matrix = torch.zeros((vocab_size, vocab_size))\n",
    "        for i in range(vocab_size):\n",
    "            weight_matrix[i][i] = 1\n",
    "        emb_layer.weight.requires_grad = True # embedding weight도 gradient 학습 ### 다시 확인할 것\n",
    "        return emb_layer\n",
    "        \n",
    "    def forward(self, x):\n",
    "        x = self.embedding(x)\n",
    "        x = self.conv_forward(x)\n",
    "        x = self.leakyrelu(self.fc1(x))\n",
    "        x = self.fc2(x)\n",
    "        x = self.dropout(x)\n",
    "        return x.squeeze(1)"
   ]
  },
  {
   "cell_type": "code",
   "source": [
    "def reinitialize_weights(m):\n",
    "  \"\"\"\n",
    "  모듈의 가중치를 xavier_normal로 초기화\n",
    "  편차를 0으로 초기화\n",
    "  \"\"\"\n",
    "  if isinstance(m, nn.Conv2d):\n",
    "    nn.init.xavier_normal_(m.weight.data)\n",
    "    m.bias.data.fill_(0)\n",
    "\n",
    "  elif isinstance(m, nn.Linear):\n",
    "    nn.init.xavier_normal_(m.weight.data)\n",
    "    m.bias.data.fill_(0)\n",
    "\n",
    "def calculate_acc(y_pred, y_test):\n",
    "  \"\"\"\n",
    "  epoch별 accuracy 계산\n",
    "  \"\"\"\n",
    "  y_pred_tag = torch.round(torch.sigmoid(y_pred))\n",
    "  correct_results_sum = (y_pred_tag == y_test).float().sum()\n",
    "  acc = correct_results_sum/y_test.shape[0]\n",
    "  acc = torch.round(acc * 100)\n",
    "  return acc"
   ],
   "metadata": {
    "id": "uOaFoPBvxC11",
    "pycharm": {
     "name": "#%%\n"
    }
   },
   "execution_count": null,
   "outputs": []
  },
  {
   "cell_type": "markdown",
   "source": [
    "# Train"
   ],
   "metadata": {
    "id": "mcL9FsaPyK4O",
    "pycharm": {
     "name": "#%% md\n"
    }
   }
  },
  {
   "cell_type": "code",
   "execution_count": null,
   "metadata": {
    "id": "9Ix4befszzc1",
    "pycharm": {
     "name": "#%%\n"
    }
   },
   "outputs": [],
   "source": [
    "def train(model, train_loader, criterion, optimizer, config):\n",
    "  wandb.watch(model, criterion, log=\"all\", log_freq=10)\n",
    "  losses = []\n",
    "\n",
    "  model.train()\n",
    "  for epoch in tqdm(range(1, config.epochs+1)):\n",
    "      epoch_loss = 0\n",
    "      epoch_acc = 0\n",
    "      for X_batch, y_batch in train_loader:\n",
    "          X_batch, y_batch = X_batch.long(), y_batch.float()\n",
    "          X_batch, y_batch = X_batch.to(device), y_batch.to(device)\n",
    "          optimizer.zero_grad()\n",
    "          y_pred = model(X_batch)\n",
    "          loss = criterion(y_pred, y_batch)\n",
    "          \n",
    "          loss.backward()\n",
    "          optimizer.step()\n",
    "          \n",
    "          # loss\n",
    "          epoch_loss += loss.item()\n",
    "          acc = calculate_acc(y_pred, y_batch)\n",
    "          avg_loss = epoch_loss/len(train_loader)\n",
    "\n",
    "          # acc\n",
    "          epoch_acc += acc.item()\n",
    "          avg_acc = epoch_acc/len(train_loader)\n",
    "          \n",
    "          wandb.log({'acc': avg_acc, 'loss': avg_loss}, step=epoch)\n",
    "          \n",
    "      if epoch % 10 == 0:\n",
    "          losses.append(avg_loss)\n",
    "          print(f'Epoch {epoch+0:03}: | Loss: {avg_loss:.5f} | Acc: {avg_acc:.3f}')"
   ]
  },
  {
   "cell_type": "code",
   "source": [
    "def run(df, vocab, max_len, config):\n",
    "  wandb.init(config=config, reinit=True)\n",
    "\n",
    "  config = wandb.config\n",
    "\n",
    "  # dataset loader\n",
    "  train_loader = DataLoader(cnnDataset(df[df.group.eq('train')], \n",
    "                                     vocab = vocab, \n",
    "                                     partition = 'train', \n",
    "                                     max_len = max_len), \n",
    "                            batch_size = config.batch_size, \n",
    "                            shuffle = True)\n",
    "  \n",
    "  model = Net()\n",
    "  model.apply(reinitialize_weights)\n",
    "  model.to(device)\n",
    "  print(model)\n",
    "\n",
    "  criterion = nn.BCEWithLogitsLoss()\n",
    "  optimizer = optim.Adam(model.parameters(), lr=config.learning_rate, weight_decay=0.0001)\n",
    "\n",
    "  train(model, train_loader, criterion, optimizer, config)\n",
    "  return model"
   ],
   "metadata": {
    "id": "0UKeSOCd-bgp",
    "pycharm": {
     "name": "#%%\n"
    }
   },
   "execution_count": null,
   "outputs": []
  },
  {
   "cell_type": "code",
   "source": [
    "# 하이퍼파라미터 config 세팅\n",
    "config = {\n",
    "    'epochs': 300,\n",
    "    'batch_size': 128,\n",
    "    'learning_rate': 0.005,\n",
    "    'dataset': 'compound_df',\n",
    "    'architecture': 'CNN',\n",
    "    }"
   ],
   "metadata": {
    "id": "5pFTCSANBGAN",
    "pycharm": {
     "name": "#%%\n"
    }
   },
   "execution_count": null,
   "outputs": []
  },
  {
   "cell_type": "code",
   "source": [
    "model = run(cmpd_df, vocab, max_len=400, config=config)"
   ],
   "metadata": {
    "colab": {
     "base_uri": "https://localhost:8080/",
     "height": 1000,
     "referenced_widgets": [
      "11ae932ca089464392a83b2388260ba9",
      "2f44031aa3cc4a3a9e6ece4aad916e6a",
      "628f17e9e2f34a26ba0a3d88f3989983",
      "f92593a898634a6ca40f1d5d154d309d",
      "cb04ef1858bc4bb2a8290b1a7d33cddf",
      "b1b3f643cb6e464290799be2453edc92",
      "ff4ec8d0a39c430a895a27fcbeea22bf",
      "846a9f7bfe824adf8da70dabdb5aab38",
      "9bfbf923b0ea45ca9a75a10eaf86e1d6",
      "539aa6000d5f4348a9d22abd501e6f76",
      "742139ff98b44eb388a707971536fab1",
      "614243d832ad4386acb0b60ab2d296f2",
      "e26ebb4013c040a7a98aaaabc8fd94e3",
      "f6974386d6864536aaa35a6e4b8a180c",
      "d07110b7ec534daead54b91855bdcf37",
      "1c077462f36246b38be122f0f9e97a57",
      "0b42b1cb76944f19beb614e0948156d7",
      "bd51af95bf2b40d49179980103b7007b",
      "f134eae9385f442b811356e9259c1959",
      "faa884f8745a45fa8196b117511a7b0f",
      "6d184e36228d4205b49ebd850e53097a",
      "1a49c809a3104391857c0f5525744b30",
      "cd4720810b204649ae74148577c5a898",
      "afeee6505a864c6eaa4b4d666f31621e",
      "f9da1d7b94c3434a8fe7215f7c0ee326",
      "74cf47d5f0004c219932d1ee196404d4",
      "b83469e863b249d5862e2a8a04b8d2e2"
     ]
    },
    "id": "cMMp7IOh_vxJ",
    "executionInfo": {
     "status": "ok",
     "timestamp": 1644500690712,
     "user_tz": -540,
     "elapsed": 113093,
     "user": {
      "displayName": "이유림",
      "photoUrl": "https://lh3.googleusercontent.com/a-/AOh14Ghqpv6CiJonH-12L4lTSRmt61Bd-HCwA_0-MSxtWQU=s64",
      "userId": "10016563522635960681"
     }
    },
    "outputId": "c1d66ca3-9005-42d4-c54b-e4714edbefa3",
    "pycharm": {
     "name": "#%%\n"
    }
   },
   "execution_count": null,
   "outputs": [
    {
     "output_type": "display_data",
     "data": {
      "text/html": [
       "Finishing last run (ID:vui346i2) before initializing another..."
      ],
      "text/plain": [
       "<IPython.core.display.HTML object>"
      ]
     },
     "metadata": {}
    },
    {
     "output_type": "display_data",
     "data": {
      "text/html": [
       "<br/>Waiting for W&B process to finish, PID 919... <strong style=\"color:green\">(success).</strong>"
      ],
      "text/plain": [
       "<IPython.core.display.HTML object>"
      ]
     },
     "metadata": {}
    },
    {
     "output_type": "display_data",
     "data": {
      "application/vnd.jupyter.widget-view+json": {
       "model_id": "11ae932ca089464392a83b2388260ba9",
       "version_minor": 0,
       "version_major": 2
      },
      "text/plain": [
       "VBox(children=(Label(value=' 0.00MB of 0.00MB uploaded (0.00MB deduped)\\r'), FloatProgress(value=1.0, max=1.0)…"
      ]
     },
     "metadata": {}
    },
    {
     "output_type": "display_data",
     "data": {
      "text/html": [
       "<style>\n",
       "    table.wandb td:nth-child(1) { padding: 0 10px; text-align: right }\n",
       "    .wandb-row { display: flex; flex-direction: row; flex-wrap: wrap; width: 100% }\n",
       "    .wandb-col { display: flex; flex-direction: column; flex-basis: 100%; flex: 1; padding: 10px; }\n",
       "    </style>\n",
       "<div class=\"wandb-row\"><div class=\"wandb-col\">\n",
       "</div><div class=\"wandb-col\">\n",
       "</div></div>\n",
       "Synced 4 W&B file(s), 0 media file(s), 0 artifact file(s) and 0 other file(s)\n",
       "<br/>Synced <strong style=\"color:#cdcd00\">charmed-deluge-7</strong>: <a href=\"https://wandb.ai/rimiiii/uncategorized/runs/vui346i2\" target=\"_blank\">https://wandb.ai/rimiiii/uncategorized/runs/vui346i2</a><br/>\n",
       "Find logs at: <code>./wandb/run-20220210_134120-vui346i2/logs</code><br/>\n"
      ],
      "text/plain": [
       "<IPython.core.display.HTML object>"
      ]
     },
     "metadata": {}
    },
    {
     "output_type": "display_data",
     "data": {
      "text/html": [
       "Successfully finished last run (ID:vui346i2). Initializing new run:<br/>"
      ],
      "text/plain": [
       "<IPython.core.display.HTML object>"
      ]
     },
     "metadata": {}
    },
    {
     "output_type": "display_data",
     "data": {
      "text/html": [
       "\n",
       "                    Syncing run <strong><a href=\"https://wandb.ai/rimiiii/uncategorized/runs/19vvm7jk\" target=\"_blank\">easy-bee-8</a></strong> to <a href=\"https://wandb.ai/rimiiii/uncategorized\" target=\"_blank\">Weights & Biases</a> (<a href=\"https://docs.wandb.com/integrations/jupyter.html\" target=\"_blank\">docs</a>).<br/>\n",
       "\n",
       "                "
      ],
      "text/plain": [
       "<IPython.core.display.HTML object>"
      ]
     },
     "metadata": {}
    },
    {
     "output_type": "display_data",
     "data": {
      "text/html": [
       "Finishing last run (ID:19vvm7jk) before initializing another..."
      ],
      "text/plain": [
       "<IPython.core.display.HTML object>"
      ]
     },
     "metadata": {}
    },
    {
     "output_type": "display_data",
     "data": {
      "text/html": [
       "<br/>Waiting for W&B process to finish, PID 992... <strong style=\"color:green\">(success).</strong>"
      ],
      "text/plain": [
       "<IPython.core.display.HTML object>"
      ]
     },
     "metadata": {}
    },
    {
     "output_type": "display_data",
     "data": {
      "application/vnd.jupyter.widget-view+json": {
       "model_id": "9bfbf923b0ea45ca9a75a10eaf86e1d6",
       "version_minor": 0,
       "version_major": 2
      },
      "text/plain": [
       "VBox(children=(Label(value=' 0.00MB of 0.00MB uploaded (0.00MB deduped)\\r'), FloatProgress(value=1.0, max=1.0)…"
      ]
     },
     "metadata": {}
    },
    {
     "output_type": "display_data",
     "data": {
      "text/html": [
       "<style>\n",
       "    table.wandb td:nth-child(1) { padding: 0 10px; text-align: right }\n",
       "    .wandb-row { display: flex; flex-direction: row; flex-wrap: wrap; width: 100% }\n",
       "    .wandb-col { display: flex; flex-direction: column; flex-basis: 100%; flex: 1; padding: 10px; }\n",
       "    </style>\n",
       "<div class=\"wandb-row\"><div class=\"wandb-col\">\n",
       "</div><div class=\"wandb-col\">\n",
       "</div></div>\n",
       "Synced 4 W&B file(s), 0 media file(s), 0 artifact file(s) and 0 other file(s)\n",
       "<br/>Synced <strong style=\"color:#cdcd00\">easy-bee-8</strong>: <a href=\"https://wandb.ai/rimiiii/uncategorized/runs/19vvm7jk\" target=\"_blank\">https://wandb.ai/rimiiii/uncategorized/runs/19vvm7jk</a><br/>\n",
       "Find logs at: <code>./wandb/run-20220210_134257-19vvm7jk/logs</code><br/>\n"
      ],
      "text/plain": [
       "<IPython.core.display.HTML object>"
      ]
     },
     "metadata": {}
    },
    {
     "output_type": "display_data",
     "data": {
      "text/html": [
       "Successfully finished last run (ID:19vvm7jk). Initializing new run:<br/>"
      ],
      "text/plain": [
       "<IPython.core.display.HTML object>"
      ]
     },
     "metadata": {}
    },
    {
     "output_type": "display_data",
     "data": {
      "text/html": [
       "\n",
       "                    Syncing run <strong><a href=\"https://wandb.ai/rimiiii/uncategorized/runs/17pbwps6\" target=\"_blank\">worthy-terrain-9</a></strong> to <a href=\"https://wandb.ai/rimiiii/uncategorized\" target=\"_blank\">Weights & Biases</a> (<a href=\"https://docs.wandb.com/integrations/jupyter.html\" target=\"_blank\">docs</a>).<br/>\n",
       "\n",
       "                "
      ],
      "text/plain": [
       "<IPython.core.display.HTML object>"
      ]
     },
     "metadata": {}
    },
    {
     "output_type": "stream",
     "name": "stdout",
     "text": [
      "Net(\n",
      "  (embedding): Embedding(39, 39)\n",
      "  (conv_forward): CNN(\n",
      "    (conv1): Conv2d(1, 64, kernel_size=(9, 39), stride=(1, 1))\n",
      "    (conv2): Conv2d(1, 64, kernel_size=(9, 64), stride=(1, 1))\n",
      "    (avg_pool1): AvgPool2d(kernel_size=(2, 1), stride=(2, 1), padding=0)\n",
      "    (avg_pool2): AvgPool2d(kernel_size=(2, 1), stride=(2, 1), padding=0)\n",
      "    (global_max_pool): MaxPool2d(kernel_size=(1, 64), stride=(1, 64), padding=0, dilation=1, ceil_mode=False)\n",
      "    (bn1): BatchNorm2d(64, eps=1e-05, momentum=0.1, affine=True, track_running_stats=True)\n",
      "    (bn2): BatchNorm2d(64, eps=1e-05, momentum=0.1, affine=True, track_running_stats=True)\n",
      "    (leakyrelu): LeakyReLU(negative_slope=0.01)\n",
      "  )\n",
      "  (fc1): Linear(in_features=94, out_features=64, bias=True)\n",
      "  (fc2): Linear(in_features=64, out_features=1, bias=True)\n",
      "  (dropout): Dropout2d(p=0.3, inplace=False)\n",
      "  (leakyrelu): LeakyReLU(negative_slope=0.01)\n",
      ")\n"
     ]
    },
    {
     "output_type": "display_data",
     "data": {
      "application/vnd.jupyter.widget-view+json": {
       "model_id": "0b42b1cb76944f19beb614e0948156d7",
       "version_minor": 0,
       "version_major": 2
      },
      "text/plain": [
       "  0%|          | 0/300 [00:00<?, ?it/s]"
      ]
     },
     "metadata": {}
    },
    {
     "output_type": "stream",
     "name": "stdout",
     "text": [
      "Epoch 010: | Loss: 0.37388 | Acc: 77.125\n",
      "Epoch 020: | Loss: 0.28536 | Acc: 81.219\n",
      "Epoch 030: | Loss: 0.26568 | Acc: 81.969\n",
      "Epoch 040: | Loss: 0.26893 | Acc: 81.344\n",
      "Epoch 050: | Loss: 0.23017 | Acc: 84.406\n",
      "Epoch 060: | Loss: 0.22292 | Acc: 83.781\n",
      "Epoch 070: | Loss: 0.24548 | Acc: 82.625\n",
      "Epoch 080: | Loss: 0.25585 | Acc: 80.969\n",
      "Epoch 090: | Loss: 0.21323 | Acc: 84.469\n",
      "Epoch 100: | Loss: 0.23296 | Acc: 83.094\n",
      "Epoch 110: | Loss: 0.22721 | Acc: 82.625\n",
      "Epoch 120: | Loss: 0.21198 | Acc: 84.906\n",
      "Epoch 130: | Loss: 0.21301 | Acc: 84.125\n",
      "Epoch 140: | Loss: 0.26880 | Acc: 81.812\n",
      "Epoch 150: | Loss: 0.25650 | Acc: 82.781\n",
      "Epoch 160: | Loss: 0.21977 | Acc: 83.531\n",
      "Epoch 170: | Loss: 0.23508 | Acc: 82.562\n",
      "Epoch 180: | Loss: 0.21813 | Acc: 84.000\n",
      "Epoch 190: | Loss: 0.20970 | Acc: 83.719\n",
      "Epoch 200: | Loss: 0.30405 | Acc: 80.031\n",
      "Epoch 210: | Loss: 0.21912 | Acc: 83.500\n",
      "Epoch 220: | Loss: 0.25569 | Acc: 82.594\n",
      "Epoch 230: | Loss: 0.25427 | Acc: 81.625\n",
      "Epoch 240: | Loss: 0.20908 | Acc: 83.906\n",
      "Epoch 250: | Loss: 0.24625 | Acc: 83.469\n",
      "Epoch 260: | Loss: 0.25442 | Acc: 81.188\n",
      "Epoch 270: | Loss: 0.21294 | Acc: 83.750\n",
      "Epoch 280: | Loss: 0.22187 | Acc: 83.719\n",
      "Epoch 290: | Loss: 0.21467 | Acc: 83.062\n",
      "Epoch 300: | Loss: 0.23127 | Acc: 81.656\n"
     ]
    }
   ]
  },
  {
   "cell_type": "code",
   "source": [
    "# 모델 저장\n",
    "file_name = 'CNN_netv4.pth'\n",
    "torch.save(model.state_dict(), data_dir+file_name)"
   ],
   "metadata": {
    "id": "B55F-j8UqZbQ",
    "pycharm": {
     "name": "#%%\n"
    }
   },
   "execution_count": null,
   "outputs": []
  },
  {
   "cell_type": "code",
   "source": [
    "# 모델 로드\n",
    "file_name = 'CNN_netv4.pth'\n",
    "net = Net()\n",
    "net.load_state_dict(torch.load(data_dir+file_name))\n",
    "net.to(device)"
   ],
   "metadata": {
    "colab": {
     "base_uri": "https://localhost:8080/",
     "height": 743,
     "referenced_widgets": [
      "259ebc493cd94f3d925f088ef4f066d0",
      "35b04736e7ea4edb9bed98dc4d6c57b0",
      "859931b1a51e4a16bcf54d8bb2b6a05f",
      "f2d36262408a4d1da8a1b1a88ab1f7cd",
      "7bf7b550a14949388661f4a6e340963a",
      "8de72f1b8c764d2fac936b04c74e11e6",
      "2dcadecdfbda4dc39bb82db54fc29af5",
      "03eb6e2045f24566b57885b318ecb3de"
     ]
    },
    "id": "LdR51pvcqpWU",
    "executionInfo": {
     "status": "ok",
     "timestamp": 1644500708567,
     "user_tz": -540,
     "elapsed": 11474,
     "user": {
      "displayName": "이유림",
      "photoUrl": "https://lh3.googleusercontent.com/a-/AOh14Ghqpv6CiJonH-12L4lTSRmt61Bd-HCwA_0-MSxtWQU=s64",
      "userId": "10016563522635960681"
     }
    },
    "outputId": "8971d9de-57c7-456a-c880-217c5bcf860f",
    "pycharm": {
     "name": "#%%\n"
    }
   },
   "execution_count": null,
   "outputs": [
    {
     "output_type": "display_data",
     "data": {
      "text/html": [
       "Finishing last run (ID:17pbwps6) before initializing another..."
      ],
      "text/plain": [
       "<IPython.core.display.HTML object>"
      ]
     },
     "metadata": {}
    },
    {
     "output_type": "display_data",
     "data": {
      "text/html": [
       "<br/>Waiting for W&B process to finish, PID 1033... <strong style=\"color:green\">(success).</strong>"
      ],
      "text/plain": [
       "<IPython.core.display.HTML object>"
      ]
     },
     "metadata": {}
    },
    {
     "output_type": "display_data",
     "data": {
      "application/vnd.jupyter.widget-view+json": {
       "model_id": "259ebc493cd94f3d925f088ef4f066d0",
       "version_minor": 0,
       "version_major": 2
      },
      "text/plain": [
       "VBox(children=(Label(value=' 0.00MB of 0.00MB uploaded (0.00MB deduped)\\r'), FloatProgress(value=1.0, max=1.0)…"
      ]
     },
     "metadata": {}
    },
    {
     "output_type": "display_data",
     "data": {
      "text/html": [
       "<style>\n",
       "    table.wandb td:nth-child(1) { padding: 0 10px; text-align: right }\n",
       "    .wandb-row { display: flex; flex-direction: row; flex-wrap: wrap; width: 100% }\n",
       "    .wandb-col { display: flex; flex-direction: column; flex-basis: 100%; flex: 1; padding: 10px; }\n",
       "    </style>\n",
       "<div class=\"wandb-row\"><div class=\"wandb-col\">\n",
       "<h3>Run history:</h3><br/><table class=\"wandb\"><tr><td>acc</td><td>▁▃▆▇▆▆▆▇▇▇▇▇█▇▇▇█▇▇▆▇█▇██▇▆██▇▇▇▇▇▆▇▇▇▇▇</td></tr><tr><td>loss</td><td>█▆▃▂▄▂▃▂▂▂▁▂▁▂▂▂▁▁▂▃▂▁▂▁▁▁▃▁▁▂▂▁▁▂▂▁▃▁▁▂</td></tr></table><br/></div><div class=\"wandb-col\">\n",
       "<h3>Run summary:</h3><br/><table class=\"wandb\"><tr><td>acc</td><td>81.65625</td></tr><tr><td>loss</td><td>0.23127</td></tr></table>\n",
       "</div></div>\n",
       "Synced 5 W&B file(s), 0 media file(s), 0 artifact file(s) and 0 other file(s)\n",
       "<br/>Synced <strong style=\"color:#cdcd00\">worthy-terrain-9</strong>: <a href=\"https://wandb.ai/rimiiii/uncategorized/runs/17pbwps6\" target=\"_blank\">https://wandb.ai/rimiiii/uncategorized/runs/17pbwps6</a><br/>\n",
       "Find logs at: <code>./wandb/run-20220210_134307-17pbwps6/logs</code><br/>\n"
      ],
      "text/plain": [
       "<IPython.core.display.HTML object>"
      ]
     },
     "metadata": {}
    },
    {
     "output_type": "display_data",
     "data": {
      "text/html": [
       "Successfully finished last run (ID:17pbwps6). Initializing new run:<br/>"
      ],
      "text/plain": [
       "<IPython.core.display.HTML object>"
      ]
     },
     "metadata": {}
    },
    {
     "output_type": "display_data",
     "data": {
      "text/html": [
       "\n",
       "                    Syncing run <strong><a href=\"https://wandb.ai/rimiiii/uncategorized/runs/37jxyfk8\" target=\"_blank\">wobbly-cherry-10</a></strong> to <a href=\"https://wandb.ai/rimiiii/uncategorized\" target=\"_blank\">Weights & Biases</a> (<a href=\"https://docs.wandb.com/integrations/jupyter.html\" target=\"_blank\">docs</a>).<br/>\n",
       "\n",
       "                "
      ],
      "text/plain": [
       "<IPython.core.display.HTML object>"
      ]
     },
     "metadata": {}
    },
    {
     "output_type": "execute_result",
     "data": {
      "text/plain": [
       "Net(\n",
       "  (embedding): Embedding(39, 39)\n",
       "  (conv_forward): CNN(\n",
       "    (conv1): Conv2d(1, 64, kernel_size=(9, 39), stride=(1, 1))\n",
       "    (conv2): Conv2d(1, 64, kernel_size=(9, 64), stride=(1, 1))\n",
       "    (avg_pool1): AvgPool2d(kernel_size=(2, 1), stride=(2, 1), padding=0)\n",
       "    (avg_pool2): AvgPool2d(kernel_size=(2, 1), stride=(2, 1), padding=0)\n",
       "    (global_max_pool): MaxPool2d(kernel_size=(1, 64), stride=(1, 64), padding=0, dilation=1, ceil_mode=False)\n",
       "    (bn1): BatchNorm2d(64, eps=1e-05, momentum=0.1, affine=True, track_running_stats=True)\n",
       "    (bn2): BatchNorm2d(64, eps=1e-05, momentum=0.1, affine=True, track_running_stats=True)\n",
       "    (leakyrelu): LeakyReLU(negative_slope=0.01)\n",
       "  )\n",
       "  (fc1): Linear(in_features=94, out_features=64, bias=True)\n",
       "  (fc2): Linear(in_features=64, out_features=1, bias=True)\n",
       "  (dropout): Dropout2d(p=0.3, inplace=False)\n",
       "  (leakyrelu): LeakyReLU(negative_slope=0.01)\n",
       ")"
      ]
     },
     "metadata": {},
     "execution_count": 52
    }
   ]
  },
  {
   "cell_type": "markdown",
   "source": [
    "# Test"
   ],
   "metadata": {
    "id": "b3w7O_n-xkqg",
    "pycharm": {
     "name": "#%% md\n"
    }
   }
  },
  {
   "cell_type": "code",
   "source": [
    "test_loader = DataLoader(cnnDataset(cmpd_df[cmpd_df.group.eq('test')], \n",
    "                                      vocab = vocab, \n",
    "                                      partition = 'test',\n",
    "                                      max_len = 400),\n",
    "                          batch_size = 256, \n",
    "                          shuffle = False)\n",
    "# test label 추출\n",
    "y_test = cmpd_df[cmpd_df.group.eq('test')].activity.eq('active').astype(float).to_numpy()"
   ],
   "metadata": {
    "id": "6Zav_n5KHbZc",
    "pycharm": {
     "name": "#%%\n"
    }
   },
   "execution_count": null,
   "outputs": []
  },
  {
   "cell_type": "code",
   "execution_count": null,
   "metadata": {
    "id": "tEhZIU8snVjr",
    "pycharm": {
     "name": "#%%\n"
    }
   },
   "outputs": [],
   "source": [
    "# test 데이터를 이용한 성능 평가\n",
    "y_pred_list = []\n",
    "\n",
    "model.eval()\n",
    "with torch.no_grad():\n",
    "    i = 0\n",
    "    for X_batch in test_loader:\n",
    "      i += 1\n",
    "      X_batch = X_batch.long()\n",
    "      X_batch = X_batch.to(device)\n",
    "      y_pred = model(X_batch)\n",
    "      y_pred = torch.sigmoid(y_pred)\n",
    "      y_pred_list.append(y_pred.cpu().numpy())\n",
    "\n",
    "y_pred_list = np.hstack(y_pred_list)"
   ]
  },
  {
   "cell_type": "code",
   "execution_count": null,
   "metadata": {
    "id": "PTQERMa5hkFZ",
    "colab": {
     "base_uri": "https://localhost:8080/"
    },
    "executionInfo": {
     "status": "ok",
     "timestamp": 1644500714500,
     "user_tz": -540,
     "elapsed": 7,
     "user": {
      "displayName": "이유림",
      "photoUrl": "https://lh3.googleusercontent.com/a-/AOh14Ghqpv6CiJonH-12L4lTSRmt61Bd-HCwA_0-MSxtWQU=s64",
      "userId": "10016563522635960681"
     }
    },
    "outputId": "e8f6642a-adc8-4502-c8eb-c607e64451ee",
    "pycharm": {
     "name": "#%%\n"
    }
   },
   "outputs": [
    {
     "output_type": "execute_result",
     "data": {
      "text/plain": [
       "0.7826534104212821"
      ]
     },
     "metadata": {},
     "execution_count": 55
    }
   ],
   "source": [
    "#roc-auc score\n",
    "roc_auc_score(y_test, y_pred_list)"
   ]
  },
  {
   "cell_type": "code",
   "source": [],
   "metadata": {
    "id": "vYoQpKZW0gPc",
    "pycharm": {
     "name": "#%%\n"
    }
   },
   "execution_count": null,
   "outputs": []
  }
 ],
 "metadata": {
  "accelerator": "GPU",
  "colab": {
   "collapsed_sections": [],
   "machine_shape": "hm",
   "name": "cmpd_clf_CNN.ipynb",
   "provenance": [
    {
     "file_id": "1oFyAoQD0P3XtfD03HGx1-f5W1d1lCOY7",
     "timestamp": 1644396040310
    }
   ]
  },
  "kernelspec": {
   "display_name": "Python 3",
   "language": "python",
   "name": "python3"
  },
  "language_info": {
   "codemirror_mode": {
    "name": "ipython",
    "version": 3
   },
   "file_extension": ".py",
   "mimetype": "text/x-python",
   "name": "python",
   "nbconvert_exporter": "python",
   "pygments_lexer": "ipython3",
   "version": "3.9.2"
  },
  "widgets": {
   "application/vnd.jupyter.widget-state+json": {
    "11ae932ca089464392a83b2388260ba9": {
     "model_module": "@jupyter-widgets/controls",
     "model_name": "VBoxModel",
     "model_module_version": "1.5.0",
     "state": {
      "_view_name": "VBoxView",
      "_dom_classes": [],
      "_model_name": "VBoxModel",
      "_view_module": "@jupyter-widgets/controls",
      "_model_module_version": "1.5.0",
      "_view_count": null,
      "_view_module_version": "1.5.0",
      "box_style": "",
      "layout": "IPY_MODEL_2f44031aa3cc4a3a9e6ece4aad916e6a",
      "_model_module": "@jupyter-widgets/controls",
      "children": [
       "IPY_MODEL_628f17e9e2f34a26ba0a3d88f3989983",
       "IPY_MODEL_f92593a898634a6ca40f1d5d154d309d"
      ]
     }
    },
    "2f44031aa3cc4a3a9e6ece4aad916e6a": {
     "model_module": "@jupyter-widgets/base",
     "model_name": "LayoutModel",
     "model_module_version": "1.2.0",
     "state": {
      "_view_name": "LayoutView",
      "grid_template_rows": null,
      "right": null,
      "justify_content": null,
      "_view_module": "@jupyter-widgets/base",
      "overflow": null,
      "_model_module_version": "1.2.0",
      "_view_count": null,
      "flex_flow": null,
      "width": null,
      "min_width": null,
      "border": null,
      "align_items": null,
      "bottom": null,
      "_model_module": "@jupyter-widgets/base",
      "top": null,
      "grid_column": null,
      "overflow_y": null,
      "overflow_x": null,
      "grid_auto_flow": null,
      "grid_area": null,
      "grid_template_columns": null,
      "flex": null,
      "_model_name": "LayoutModel",
      "justify_items": null,
      "grid_row": null,
      "max_height": null,
      "align_content": null,
      "visibility": null,
      "align_self": null,
      "height": null,
      "min_height": null,
      "padding": null,
      "grid_auto_rows": null,
      "grid_gap": null,
      "max_width": null,
      "order": null,
      "_view_module_version": "1.2.0",
      "grid_template_areas": null,
      "object_position": null,
      "object_fit": null,
      "grid_auto_columns": null,
      "margin": null,
      "display": null,
      "left": null
     }
    },
    "628f17e9e2f34a26ba0a3d88f3989983": {
     "model_module": "@jupyter-widgets/controls",
     "model_name": "LabelModel",
     "model_module_version": "1.5.0",
     "state": {
      "_view_name": "LabelView",
      "style": "IPY_MODEL_cb04ef1858bc4bb2a8290b1a7d33cddf",
      "_dom_classes": [],
      "description": "",
      "_model_name": "LabelModel",
      "placeholder": "​",
      "_view_module": "@jupyter-widgets/controls",
      "_model_module_version": "1.5.0",
      "value": " 0.01MB of 0.01MB uploaded (0.00MB deduped)\r",
      "_view_count": null,
      "_view_module_version": "1.5.0",
      "description_tooltip": null,
      "_model_module": "@jupyter-widgets/controls",
      "layout": "IPY_MODEL_b1b3f643cb6e464290799be2453edc92"
     }
    },
    "f92593a898634a6ca40f1d5d154d309d": {
     "model_module": "@jupyter-widgets/controls",
     "model_name": "FloatProgressModel",
     "model_module_version": "1.5.0",
     "state": {
      "_view_name": "ProgressView",
      "style": "IPY_MODEL_ff4ec8d0a39c430a895a27fcbeea22bf",
      "_dom_classes": [],
      "description": "",
      "_model_name": "FloatProgressModel",
      "bar_style": "",
      "max": 1,
      "_view_module": "@jupyter-widgets/controls",
      "_model_module_version": "1.5.0",
      "value": 1,
      "_view_count": null,
      "_view_module_version": "1.5.0",
      "orientation": "horizontal",
      "min": 0,
      "description_tooltip": null,
      "_model_module": "@jupyter-widgets/controls",
      "layout": "IPY_MODEL_846a9f7bfe824adf8da70dabdb5aab38"
     }
    },
    "cb04ef1858bc4bb2a8290b1a7d33cddf": {
     "model_module": "@jupyter-widgets/controls",
     "model_name": "DescriptionStyleModel",
     "model_module_version": "1.5.0",
     "state": {
      "_view_name": "StyleView",
      "_model_name": "DescriptionStyleModel",
      "description_width": "",
      "_view_module": "@jupyter-widgets/base",
      "_model_module_version": "1.5.0",
      "_view_count": null,
      "_view_module_version": "1.2.0",
      "_model_module": "@jupyter-widgets/controls"
     }
    },
    "b1b3f643cb6e464290799be2453edc92": {
     "model_module": "@jupyter-widgets/base",
     "model_name": "LayoutModel",
     "model_module_version": "1.2.0",
     "state": {
      "_view_name": "LayoutView",
      "grid_template_rows": null,
      "right": null,
      "justify_content": null,
      "_view_module": "@jupyter-widgets/base",
      "overflow": null,
      "_model_module_version": "1.2.0",
      "_view_count": null,
      "flex_flow": null,
      "width": null,
      "min_width": null,
      "border": null,
      "align_items": null,
      "bottom": null,
      "_model_module": "@jupyter-widgets/base",
      "top": null,
      "grid_column": null,
      "overflow_y": null,
      "overflow_x": null,
      "grid_auto_flow": null,
      "grid_area": null,
      "grid_template_columns": null,
      "flex": null,
      "_model_name": "LayoutModel",
      "justify_items": null,
      "grid_row": null,
      "max_height": null,
      "align_content": null,
      "visibility": null,
      "align_self": null,
      "height": null,
      "min_height": null,
      "padding": null,
      "grid_auto_rows": null,
      "grid_gap": null,
      "max_width": null,
      "order": null,
      "_view_module_version": "1.2.0",
      "grid_template_areas": null,
      "object_position": null,
      "object_fit": null,
      "grid_auto_columns": null,
      "margin": null,
      "display": null,
      "left": null
     }
    },
    "ff4ec8d0a39c430a895a27fcbeea22bf": {
     "model_module": "@jupyter-widgets/controls",
     "model_name": "ProgressStyleModel",
     "model_module_version": "1.5.0",
     "state": {
      "_view_name": "StyleView",
      "_model_name": "ProgressStyleModel",
      "description_width": "",
      "_view_module": "@jupyter-widgets/base",
      "_model_module_version": "1.5.0",
      "_view_count": null,
      "_view_module_version": "1.2.0",
      "bar_color": null,
      "_model_module": "@jupyter-widgets/controls"
     }
    },
    "846a9f7bfe824adf8da70dabdb5aab38": {
     "model_module": "@jupyter-widgets/base",
     "model_name": "LayoutModel",
     "model_module_version": "1.2.0",
     "state": {
      "_view_name": "LayoutView",
      "grid_template_rows": null,
      "right": null,
      "justify_content": null,
      "_view_module": "@jupyter-widgets/base",
      "overflow": null,
      "_model_module_version": "1.2.0",
      "_view_count": null,
      "flex_flow": null,
      "width": null,
      "min_width": null,
      "border": null,
      "align_items": null,
      "bottom": null,
      "_model_module": "@jupyter-widgets/base",
      "top": null,
      "grid_column": null,
      "overflow_y": null,
      "overflow_x": null,
      "grid_auto_flow": null,
      "grid_area": null,
      "grid_template_columns": null,
      "flex": null,
      "_model_name": "LayoutModel",
      "justify_items": null,
      "grid_row": null,
      "max_height": null,
      "align_content": null,
      "visibility": null,
      "align_self": null,
      "height": null,
      "min_height": null,
      "padding": null,
      "grid_auto_rows": null,
      "grid_gap": null,
      "max_width": null,
      "order": null,
      "_view_module_version": "1.2.0",
      "grid_template_areas": null,
      "object_position": null,
      "object_fit": null,
      "grid_auto_columns": null,
      "margin": null,
      "display": null,
      "left": null
     }
    },
    "9bfbf923b0ea45ca9a75a10eaf86e1d6": {
     "model_module": "@jupyter-widgets/controls",
     "model_name": "VBoxModel",
     "model_module_version": "1.5.0",
     "state": {
      "_view_name": "VBoxView",
      "_dom_classes": [],
      "_model_name": "VBoxModel",
      "_view_module": "@jupyter-widgets/controls",
      "_model_module_version": "1.5.0",
      "_view_count": null,
      "_view_module_version": "1.5.0",
      "box_style": "",
      "layout": "IPY_MODEL_539aa6000d5f4348a9d22abd501e6f76",
      "_model_module": "@jupyter-widgets/controls",
      "children": [
       "IPY_MODEL_742139ff98b44eb388a707971536fab1",
       "IPY_MODEL_614243d832ad4386acb0b60ab2d296f2"
      ]
     }
    },
    "539aa6000d5f4348a9d22abd501e6f76": {
     "model_module": "@jupyter-widgets/base",
     "model_name": "LayoutModel",
     "model_module_version": "1.2.0",
     "state": {
      "_view_name": "LayoutView",
      "grid_template_rows": null,
      "right": null,
      "justify_content": null,
      "_view_module": "@jupyter-widgets/base",
      "overflow": null,
      "_model_module_version": "1.2.0",
      "_view_count": null,
      "flex_flow": null,
      "width": null,
      "min_width": null,
      "border": null,
      "align_items": null,
      "bottom": null,
      "_model_module": "@jupyter-widgets/base",
      "top": null,
      "grid_column": null,
      "overflow_y": null,
      "overflow_x": null,
      "grid_auto_flow": null,
      "grid_area": null,
      "grid_template_columns": null,
      "flex": null,
      "_model_name": "LayoutModel",
      "justify_items": null,
      "grid_row": null,
      "max_height": null,
      "align_content": null,
      "visibility": null,
      "align_self": null,
      "height": null,
      "min_height": null,
      "padding": null,
      "grid_auto_rows": null,
      "grid_gap": null,
      "max_width": null,
      "order": null,
      "_view_module_version": "1.2.0",
      "grid_template_areas": null,
      "object_position": null,
      "object_fit": null,
      "grid_auto_columns": null,
      "margin": null,
      "display": null,
      "left": null
     }
    },
    "742139ff98b44eb388a707971536fab1": {
     "model_module": "@jupyter-widgets/controls",
     "model_name": "LabelModel",
     "model_module_version": "1.5.0",
     "state": {
      "_view_name": "LabelView",
      "style": "IPY_MODEL_e26ebb4013c040a7a98aaaabc8fd94e3",
      "_dom_classes": [],
      "description": "",
      "_model_name": "LabelModel",
      "placeholder": "​",
      "_view_module": "@jupyter-widgets/controls",
      "_model_module_version": "1.5.0",
      "value": " 0.01MB of 0.01MB uploaded (0.00MB deduped)\r",
      "_view_count": null,
      "_view_module_version": "1.5.0",
      "description_tooltip": null,
      "_model_module": "@jupyter-widgets/controls",
      "layout": "IPY_MODEL_f6974386d6864536aaa35a6e4b8a180c"
     }
    },
    "614243d832ad4386acb0b60ab2d296f2": {
     "model_module": "@jupyter-widgets/controls",
     "model_name": "FloatProgressModel",
     "model_module_version": "1.5.0",
     "state": {
      "_view_name": "ProgressView",
      "style": "IPY_MODEL_d07110b7ec534daead54b91855bdcf37",
      "_dom_classes": [],
      "description": "",
      "_model_name": "FloatProgressModel",
      "bar_style": "",
      "max": 1,
      "_view_module": "@jupyter-widgets/controls",
      "_model_module_version": "1.5.0",
      "value": 1,
      "_view_count": null,
      "_view_module_version": "1.5.0",
      "orientation": "horizontal",
      "min": 0,
      "description_tooltip": null,
      "_model_module": "@jupyter-widgets/controls",
      "layout": "IPY_MODEL_1c077462f36246b38be122f0f9e97a57"
     }
    },
    "e26ebb4013c040a7a98aaaabc8fd94e3": {
     "model_module": "@jupyter-widgets/controls",
     "model_name": "DescriptionStyleModel",
     "model_module_version": "1.5.0",
     "state": {
      "_view_name": "StyleView",
      "_model_name": "DescriptionStyleModel",
      "description_width": "",
      "_view_module": "@jupyter-widgets/base",
      "_model_module_version": "1.5.0",
      "_view_count": null,
      "_view_module_version": "1.2.0",
      "_model_module": "@jupyter-widgets/controls"
     }
    },
    "f6974386d6864536aaa35a6e4b8a180c": {
     "model_module": "@jupyter-widgets/base",
     "model_name": "LayoutModel",
     "model_module_version": "1.2.0",
     "state": {
      "_view_name": "LayoutView",
      "grid_template_rows": null,
      "right": null,
      "justify_content": null,
      "_view_module": "@jupyter-widgets/base",
      "overflow": null,
      "_model_module_version": "1.2.0",
      "_view_count": null,
      "flex_flow": null,
      "width": null,
      "min_width": null,
      "border": null,
      "align_items": null,
      "bottom": null,
      "_model_module": "@jupyter-widgets/base",
      "top": null,
      "grid_column": null,
      "overflow_y": null,
      "overflow_x": null,
      "grid_auto_flow": null,
      "grid_area": null,
      "grid_template_columns": null,
      "flex": null,
      "_model_name": "LayoutModel",
      "justify_items": null,
      "grid_row": null,
      "max_height": null,
      "align_content": null,
      "visibility": null,
      "align_self": null,
      "height": null,
      "min_height": null,
      "padding": null,
      "grid_auto_rows": null,
      "grid_gap": null,
      "max_width": null,
      "order": null,
      "_view_module_version": "1.2.0",
      "grid_template_areas": null,
      "object_position": null,
      "object_fit": null,
      "grid_auto_columns": null,
      "margin": null,
      "display": null,
      "left": null
     }
    },
    "d07110b7ec534daead54b91855bdcf37": {
     "model_module": "@jupyter-widgets/controls",
     "model_name": "ProgressStyleModel",
     "model_module_version": "1.5.0",
     "state": {
      "_view_name": "StyleView",
      "_model_name": "ProgressStyleModel",
      "description_width": "",
      "_view_module": "@jupyter-widgets/base",
      "_model_module_version": "1.5.0",
      "_view_count": null,
      "_view_module_version": "1.2.0",
      "bar_color": null,
      "_model_module": "@jupyter-widgets/controls"
     }
    },
    "1c077462f36246b38be122f0f9e97a57": {
     "model_module": "@jupyter-widgets/base",
     "model_name": "LayoutModel",
     "model_module_version": "1.2.0",
     "state": {
      "_view_name": "LayoutView",
      "grid_template_rows": null,
      "right": null,
      "justify_content": null,
      "_view_module": "@jupyter-widgets/base",
      "overflow": null,
      "_model_module_version": "1.2.0",
      "_view_count": null,
      "flex_flow": null,
      "width": null,
      "min_width": null,
      "border": null,
      "align_items": null,
      "bottom": null,
      "_model_module": "@jupyter-widgets/base",
      "top": null,
      "grid_column": null,
      "overflow_y": null,
      "overflow_x": null,
      "grid_auto_flow": null,
      "grid_area": null,
      "grid_template_columns": null,
      "flex": null,
      "_model_name": "LayoutModel",
      "justify_items": null,
      "grid_row": null,
      "max_height": null,
      "align_content": null,
      "visibility": null,
      "align_self": null,
      "height": null,
      "min_height": null,
      "padding": null,
      "grid_auto_rows": null,
      "grid_gap": null,
      "max_width": null,
      "order": null,
      "_view_module_version": "1.2.0",
      "grid_template_areas": null,
      "object_position": null,
      "object_fit": null,
      "grid_auto_columns": null,
      "margin": null,
      "display": null,
      "left": null
     }
    },
    "0b42b1cb76944f19beb614e0948156d7": {
     "model_module": "@jupyter-widgets/controls",
     "model_name": "HBoxModel",
     "model_module_version": "1.5.0",
     "state": {
      "_view_name": "HBoxView",
      "_dom_classes": [],
      "_model_name": "HBoxModel",
      "_view_module": "@jupyter-widgets/controls",
      "_model_module_version": "1.5.0",
      "_view_count": null,
      "_view_module_version": "1.5.0",
      "box_style": "",
      "layout": "IPY_MODEL_bd51af95bf2b40d49179980103b7007b",
      "_model_module": "@jupyter-widgets/controls",
      "children": [
       "IPY_MODEL_f134eae9385f442b811356e9259c1959",
       "IPY_MODEL_faa884f8745a45fa8196b117511a7b0f",
       "IPY_MODEL_6d184e36228d4205b49ebd850e53097a"
      ]
     }
    },
    "bd51af95bf2b40d49179980103b7007b": {
     "model_module": "@jupyter-widgets/base",
     "model_name": "LayoutModel",
     "model_module_version": "1.2.0",
     "state": {
      "_view_name": "LayoutView",
      "grid_template_rows": null,
      "right": null,
      "justify_content": null,
      "_view_module": "@jupyter-widgets/base",
      "overflow": null,
      "_model_module_version": "1.2.0",
      "_view_count": null,
      "flex_flow": null,
      "width": null,
      "min_width": null,
      "border": null,
      "align_items": null,
      "bottom": null,
      "_model_module": "@jupyter-widgets/base",
      "top": null,
      "grid_column": null,
      "overflow_y": null,
      "overflow_x": null,
      "grid_auto_flow": null,
      "grid_area": null,
      "grid_template_columns": null,
      "flex": null,
      "_model_name": "LayoutModel",
      "justify_items": null,
      "grid_row": null,
      "max_height": null,
      "align_content": null,
      "visibility": null,
      "align_self": null,
      "height": null,
      "min_height": null,
      "padding": null,
      "grid_auto_rows": null,
      "grid_gap": null,
      "max_width": null,
      "order": null,
      "_view_module_version": "1.2.0",
      "grid_template_areas": null,
      "object_position": null,
      "object_fit": null,
      "grid_auto_columns": null,
      "margin": null,
      "display": null,
      "left": null
     }
    },
    "f134eae9385f442b811356e9259c1959": {
     "model_module": "@jupyter-widgets/controls",
     "model_name": "HTMLModel",
     "model_module_version": "1.5.0",
     "state": {
      "_view_name": "HTMLView",
      "style": "IPY_MODEL_1a49c809a3104391857c0f5525744b30",
      "_dom_classes": [],
      "description": "",
      "_model_name": "HTMLModel",
      "placeholder": "​",
      "_view_module": "@jupyter-widgets/controls",
      "_model_module_version": "1.5.0",
      "value": "100%",
      "_view_count": null,
      "_view_module_version": "1.5.0",
      "description_tooltip": null,
      "_model_module": "@jupyter-widgets/controls",
      "layout": "IPY_MODEL_cd4720810b204649ae74148577c5a898"
     }
    },
    "faa884f8745a45fa8196b117511a7b0f": {
     "model_module": "@jupyter-widgets/controls",
     "model_name": "FloatProgressModel",
     "model_module_version": "1.5.0",
     "state": {
      "_view_name": "ProgressView",
      "style": "IPY_MODEL_afeee6505a864c6eaa4b4d666f31621e",
      "_dom_classes": [],
      "description": "",
      "_model_name": "FloatProgressModel",
      "bar_style": "success",
      "max": 300,
      "_view_module": "@jupyter-widgets/controls",
      "_model_module_version": "1.5.0",
      "value": 300,
      "_view_count": null,
      "_view_module_version": "1.5.0",
      "orientation": "horizontal",
      "min": 0,
      "description_tooltip": null,
      "_model_module": "@jupyter-widgets/controls",
      "layout": "IPY_MODEL_f9da1d7b94c3434a8fe7215f7c0ee326"
     }
    },
    "6d184e36228d4205b49ebd850e53097a": {
     "model_module": "@jupyter-widgets/controls",
     "model_name": "HTMLModel",
     "model_module_version": "1.5.0",
     "state": {
      "_view_name": "HTMLView",
      "style": "IPY_MODEL_74cf47d5f0004c219932d1ee196404d4",
      "_dom_classes": [],
      "description": "",
      "_model_name": "HTMLModel",
      "placeholder": "​",
      "_view_module": "@jupyter-widgets/controls",
      "_model_module_version": "1.5.0",
      "value": " 300/300 [01:34&lt;00:00,  3.20it/s]",
      "_view_count": null,
      "_view_module_version": "1.5.0",
      "description_tooltip": null,
      "_model_module": "@jupyter-widgets/controls",
      "layout": "IPY_MODEL_b83469e863b249d5862e2a8a04b8d2e2"
     }
    },
    "1a49c809a3104391857c0f5525744b30": {
     "model_module": "@jupyter-widgets/controls",
     "model_name": "DescriptionStyleModel",
     "model_module_version": "1.5.0",
     "state": {
      "_view_name": "StyleView",
      "_model_name": "DescriptionStyleModel",
      "description_width": "",
      "_view_module": "@jupyter-widgets/base",
      "_model_module_version": "1.5.0",
      "_view_count": null,
      "_view_module_version": "1.2.0",
      "_model_module": "@jupyter-widgets/controls"
     }
    },
    "cd4720810b204649ae74148577c5a898": {
     "model_module": "@jupyter-widgets/base",
     "model_name": "LayoutModel",
     "model_module_version": "1.2.0",
     "state": {
      "_view_name": "LayoutView",
      "grid_template_rows": null,
      "right": null,
      "justify_content": null,
      "_view_module": "@jupyter-widgets/base",
      "overflow": null,
      "_model_module_version": "1.2.0",
      "_view_count": null,
      "flex_flow": null,
      "width": null,
      "min_width": null,
      "border": null,
      "align_items": null,
      "bottom": null,
      "_model_module": "@jupyter-widgets/base",
      "top": null,
      "grid_column": null,
      "overflow_y": null,
      "overflow_x": null,
      "grid_auto_flow": null,
      "grid_area": null,
      "grid_template_columns": null,
      "flex": null,
      "_model_name": "LayoutModel",
      "justify_items": null,
      "grid_row": null,
      "max_height": null,
      "align_content": null,
      "visibility": null,
      "align_self": null,
      "height": null,
      "min_height": null,
      "padding": null,
      "grid_auto_rows": null,
      "grid_gap": null,
      "max_width": null,
      "order": null,
      "_view_module_version": "1.2.0",
      "grid_template_areas": null,
      "object_position": null,
      "object_fit": null,
      "grid_auto_columns": null,
      "margin": null,
      "display": null,
      "left": null
     }
    },
    "afeee6505a864c6eaa4b4d666f31621e": {
     "model_module": "@jupyter-widgets/controls",
     "model_name": "ProgressStyleModel",
     "model_module_version": "1.5.0",
     "state": {
      "_view_name": "StyleView",
      "_model_name": "ProgressStyleModel",
      "description_width": "",
      "_view_module": "@jupyter-widgets/base",
      "_model_module_version": "1.5.0",
      "_view_count": null,
      "_view_module_version": "1.2.0",
      "bar_color": null,
      "_model_module": "@jupyter-widgets/controls"
     }
    },
    "f9da1d7b94c3434a8fe7215f7c0ee326": {
     "model_module": "@jupyter-widgets/base",
     "model_name": "LayoutModel",
     "model_module_version": "1.2.0",
     "state": {
      "_view_name": "LayoutView",
      "grid_template_rows": null,
      "right": null,
      "justify_content": null,
      "_view_module": "@jupyter-widgets/base",
      "overflow": null,
      "_model_module_version": "1.2.0",
      "_view_count": null,
      "flex_flow": null,
      "width": null,
      "min_width": null,
      "border": null,
      "align_items": null,
      "bottom": null,
      "_model_module": "@jupyter-widgets/base",
      "top": null,
      "grid_column": null,
      "overflow_y": null,
      "overflow_x": null,
      "grid_auto_flow": null,
      "grid_area": null,
      "grid_template_columns": null,
      "flex": null,
      "_model_name": "LayoutModel",
      "justify_items": null,
      "grid_row": null,
      "max_height": null,
      "align_content": null,
      "visibility": null,
      "align_self": null,
      "height": null,
      "min_height": null,
      "padding": null,
      "grid_auto_rows": null,
      "grid_gap": null,
      "max_width": null,
      "order": null,
      "_view_module_version": "1.2.0",
      "grid_template_areas": null,
      "object_position": null,
      "object_fit": null,
      "grid_auto_columns": null,
      "margin": null,
      "display": null,
      "left": null
     }
    },
    "74cf47d5f0004c219932d1ee196404d4": {
     "model_module": "@jupyter-widgets/controls",
     "model_name": "DescriptionStyleModel",
     "model_module_version": "1.5.0",
     "state": {
      "_view_name": "StyleView",
      "_model_name": "DescriptionStyleModel",
      "description_width": "",
      "_view_module": "@jupyter-widgets/base",
      "_model_module_version": "1.5.0",
      "_view_count": null,
      "_view_module_version": "1.2.0",
      "_model_module": "@jupyter-widgets/controls"
     }
    },
    "b83469e863b249d5862e2a8a04b8d2e2": {
     "model_module": "@jupyter-widgets/base",
     "model_name": "LayoutModel",
     "model_module_version": "1.2.0",
     "state": {
      "_view_name": "LayoutView",
      "grid_template_rows": null,
      "right": null,
      "justify_content": null,
      "_view_module": "@jupyter-widgets/base",
      "overflow": null,
      "_model_module_version": "1.2.0",
      "_view_count": null,
      "flex_flow": null,
      "width": null,
      "min_width": null,
      "border": null,
      "align_items": null,
      "bottom": null,
      "_model_module": "@jupyter-widgets/base",
      "top": null,
      "grid_column": null,
      "overflow_y": null,
      "overflow_x": null,
      "grid_auto_flow": null,
      "grid_area": null,
      "grid_template_columns": null,
      "flex": null,
      "_model_name": "LayoutModel",
      "justify_items": null,
      "grid_row": null,
      "max_height": null,
      "align_content": null,
      "visibility": null,
      "align_self": null,
      "height": null,
      "min_height": null,
      "padding": null,
      "grid_auto_rows": null,
      "grid_gap": null,
      "max_width": null,
      "order": null,
      "_view_module_version": "1.2.0",
      "grid_template_areas": null,
      "object_position": null,
      "object_fit": null,
      "grid_auto_columns": null,
      "margin": null,
      "display": null,
      "left": null
     }
    },
    "259ebc493cd94f3d925f088ef4f066d0": {
     "model_module": "@jupyter-widgets/controls",
     "model_name": "VBoxModel",
     "model_module_version": "1.5.0",
     "state": {
      "_view_name": "VBoxView",
      "_dom_classes": [],
      "_model_name": "VBoxModel",
      "_view_module": "@jupyter-widgets/controls",
      "_model_module_version": "1.5.0",
      "_view_count": null,
      "_view_module_version": "1.5.0",
      "box_style": "",
      "layout": "IPY_MODEL_35b04736e7ea4edb9bed98dc4d6c57b0",
      "_model_module": "@jupyter-widgets/controls",
      "children": [
       "IPY_MODEL_859931b1a51e4a16bcf54d8bb2b6a05f",
       "IPY_MODEL_f2d36262408a4d1da8a1b1a88ab1f7cd"
      ]
     }
    },
    "35b04736e7ea4edb9bed98dc4d6c57b0": {
     "model_module": "@jupyter-widgets/base",
     "model_name": "LayoutModel",
     "model_module_version": "1.2.0",
     "state": {
      "_view_name": "LayoutView",
      "grid_template_rows": null,
      "right": null,
      "justify_content": null,
      "_view_module": "@jupyter-widgets/base",
      "overflow": null,
      "_model_module_version": "1.2.0",
      "_view_count": null,
      "flex_flow": null,
      "width": null,
      "min_width": null,
      "border": null,
      "align_items": null,
      "bottom": null,
      "_model_module": "@jupyter-widgets/base",
      "top": null,
      "grid_column": null,
      "overflow_y": null,
      "overflow_x": null,
      "grid_auto_flow": null,
      "grid_area": null,
      "grid_template_columns": null,
      "flex": null,
      "_model_name": "LayoutModel",
      "justify_items": null,
      "grid_row": null,
      "max_height": null,
      "align_content": null,
      "visibility": null,
      "align_self": null,
      "height": null,
      "min_height": null,
      "padding": null,
      "grid_auto_rows": null,
      "grid_gap": null,
      "max_width": null,
      "order": null,
      "_view_module_version": "1.2.0",
      "grid_template_areas": null,
      "object_position": null,
      "object_fit": null,
      "grid_auto_columns": null,
      "margin": null,
      "display": null,
      "left": null
     }
    },
    "859931b1a51e4a16bcf54d8bb2b6a05f": {
     "model_module": "@jupyter-widgets/controls",
     "model_name": "LabelModel",
     "model_module_version": "1.5.0",
     "state": {
      "_view_name": "LabelView",
      "style": "IPY_MODEL_7bf7b550a14949388661f4a6e340963a",
      "_dom_classes": [],
      "description": "",
      "_model_name": "LabelModel",
      "placeholder": "​",
      "_view_module": "@jupyter-widgets/controls",
      "_model_module_version": "1.5.0",
      "value": " 0.06MB of 0.06MB uploaded (0.00MB deduped)\r",
      "_view_count": null,
      "_view_module_version": "1.5.0",
      "description_tooltip": null,
      "_model_module": "@jupyter-widgets/controls",
      "layout": "IPY_MODEL_8de72f1b8c764d2fac936b04c74e11e6"
     }
    },
    "f2d36262408a4d1da8a1b1a88ab1f7cd": {
     "model_module": "@jupyter-widgets/controls",
     "model_name": "FloatProgressModel",
     "model_module_version": "1.5.0",
     "state": {
      "_view_name": "ProgressView",
      "style": "IPY_MODEL_2dcadecdfbda4dc39bb82db54fc29af5",
      "_dom_classes": [],
      "description": "",
      "_model_name": "FloatProgressModel",
      "bar_style": "",
      "max": 1,
      "_view_module": "@jupyter-widgets/controls",
      "_model_module_version": "1.5.0",
      "value": 1,
      "_view_count": null,
      "_view_module_version": "1.5.0",
      "orientation": "horizontal",
      "min": 0,
      "description_tooltip": null,
      "_model_module": "@jupyter-widgets/controls",
      "layout": "IPY_MODEL_03eb6e2045f24566b57885b318ecb3de"
     }
    },
    "7bf7b550a14949388661f4a6e340963a": {
     "model_module": "@jupyter-widgets/controls",
     "model_name": "DescriptionStyleModel",
     "model_module_version": "1.5.0",
     "state": {
      "_view_name": "StyleView",
      "_model_name": "DescriptionStyleModel",
      "description_width": "",
      "_view_module": "@jupyter-widgets/base",
      "_model_module_version": "1.5.0",
      "_view_count": null,
      "_view_module_version": "1.2.0",
      "_model_module": "@jupyter-widgets/controls"
     }
    },
    "8de72f1b8c764d2fac936b04c74e11e6": {
     "model_module": "@jupyter-widgets/base",
     "model_name": "LayoutModel",
     "model_module_version": "1.2.0",
     "state": {
      "_view_name": "LayoutView",
      "grid_template_rows": null,
      "right": null,
      "justify_content": null,
      "_view_module": "@jupyter-widgets/base",
      "overflow": null,
      "_model_module_version": "1.2.0",
      "_view_count": null,
      "flex_flow": null,
      "width": null,
      "min_width": null,
      "border": null,
      "align_items": null,
      "bottom": null,
      "_model_module": "@jupyter-widgets/base",
      "top": null,
      "grid_column": null,
      "overflow_y": null,
      "overflow_x": null,
      "grid_auto_flow": null,
      "grid_area": null,
      "grid_template_columns": null,
      "flex": null,
      "_model_name": "LayoutModel",
      "justify_items": null,
      "grid_row": null,
      "max_height": null,
      "align_content": null,
      "visibility": null,
      "align_self": null,
      "height": null,
      "min_height": null,
      "padding": null,
      "grid_auto_rows": null,
      "grid_gap": null,
      "max_width": null,
      "order": null,
      "_view_module_version": "1.2.0",
      "grid_template_areas": null,
      "object_position": null,
      "object_fit": null,
      "grid_auto_columns": null,
      "margin": null,
      "display": null,
      "left": null
     }
    },
    "2dcadecdfbda4dc39bb82db54fc29af5": {
     "model_module": "@jupyter-widgets/controls",
     "model_name": "ProgressStyleModel",
     "model_module_version": "1.5.0",
     "state": {
      "_view_name": "StyleView",
      "_model_name": "ProgressStyleModel",
      "description_width": "",
      "_view_module": "@jupyter-widgets/base",
      "_model_module_version": "1.5.0",
      "_view_count": null,
      "_view_module_version": "1.2.0",
      "bar_color": null,
      "_model_module": "@jupyter-widgets/controls"
     }
    },
    "03eb6e2045f24566b57885b318ecb3de": {
     "model_module": "@jupyter-widgets/base",
     "model_name": "LayoutModel",
     "model_module_version": "1.2.0",
     "state": {
      "_view_name": "LayoutView",
      "grid_template_rows": null,
      "right": null,
      "justify_content": null,
      "_view_module": "@jupyter-widgets/base",
      "overflow": null,
      "_model_module_version": "1.2.0",
      "_view_count": null,
      "flex_flow": null,
      "width": null,
      "min_width": null,
      "border": null,
      "align_items": null,
      "bottom": null,
      "_model_module": "@jupyter-widgets/base",
      "top": null,
      "grid_column": null,
      "overflow_y": null,
      "overflow_x": null,
      "grid_auto_flow": null,
      "grid_area": null,
      "grid_template_columns": null,
      "flex": null,
      "_model_name": "LayoutModel",
      "justify_items": null,
      "grid_row": null,
      "max_height": null,
      "align_content": null,
      "visibility": null,
      "align_self": null,
      "height": null,
      "min_height": null,
      "padding": null,
      "grid_auto_rows": null,
      "grid_gap": null,
      "max_width": null,
      "order": null,
      "_view_module_version": "1.2.0",
      "grid_template_areas": null,
      "object_position": null,
      "object_fit": null,
      "grid_auto_columns": null,
      "margin": null,
      "display": null,
      "left": null
     }
    }
   }
  }
 },
 "nbformat": 4,
 "nbformat_minor": 0
}